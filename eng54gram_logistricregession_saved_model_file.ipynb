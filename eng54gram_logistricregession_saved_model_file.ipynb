{
 "cells": [
  {
   "cell_type": "code",
   "execution_count": 1,
   "id": "8c71456f",
   "metadata": {},
   "outputs": [],
   "source": [
    "import numpy as np\n",
    "import pandas as pd\n",
    "import pickle\n",
    "\n",
    "from sklearn.model_selection import train_test_split\n",
    "from sklearn.linear_model import LogisticRegression    \n",
    "from sklearn.naive_bayes import GaussianNB          \n",
    "from sklearn.ensemble import RandomForestClassifier    \n",
    "\n",
    "from sklearn.metrics import accuracy_score\n",
    "from sklearn.metrics import f1_score\n",
    "from sklearn.metrics import recall_score\n",
    "from sklearn.metrics import precision_score\n",
    "from sklearn.model_selection import KFold"
   ]
  },
  {
   "cell_type": "code",
   "execution_count": 2,
   "id": "c77396e4",
   "metadata": {},
   "outputs": [],
   "source": [
    "import os\n",
    "import torch"
   ]
  },
  {
   "cell_type": "code",
   "execution_count": 3,
   "id": "e0160333",
   "metadata": {},
   "outputs": [],
   "source": [
    "os.environ[\"CUDA_DEVICE_ORDER\"] = \"PCI_BUS_ID\"   \n",
    "os.environ[\"CUDA_VISIBLE_DEVICES\"] = \"0\""
   ]
  },
  {
   "cell_type": "code",
   "execution_count": 4,
   "id": "f126a806",
   "metadata": {},
   "outputs": [
    {
     "data": {
      "text/plain": [
       "True"
      ]
     },
     "execution_count": 4,
     "metadata": {},
     "output_type": "execute_result"
    }
   ],
   "source": [
    "torch.cuda.is_available()"
   ]
  },
  {
   "cell_type": "code",
   "execution_count": 5,
   "id": "b6265e21",
   "metadata": {},
   "outputs": [],
   "source": [
    "# 임베딩 배열을 데이터프레임으로 변환\n",
    "def make_df(data):\n",
    "    \n",
    "    array = data[0]     # 첫번째 array\n",
    "    error = []          # 에러 인덱스 리스트\n",
    "    \n",
    "\n",
    "    for index in range(len(data)-1):\n",
    "        plus_array = data[index+1]     # 추가할 array\n",
    "        try:\n",
    "            array = np.concatenate((array, plus_array), axis=0) \n",
    "        except:\n",
    "            print(index+1, '번 인덱스 오류 처리 완료')\n",
    "            error.append(index+1)     # 에러 인덱스 저장\n",
    "            \n",
    "        # 201건부터는 모두 보이스피싱 텍스트 임베딩값\n",
    "        # 보이스피싱 여부를 붙이고자 phishing_check로 인덱스 지정\n",
    "        if (index+1) == 199:\n",
    "            phishing_check = array.shape[0] + 1\n",
    "\n",
    "    \n",
    "    # 데이터프레임 변환 및 레이블 지정\n",
    "    df = pd.DataFrame(array)\n",
    "    df['phishing'] = 0                        # 상담 텍스트 임베딩값\n",
    "    df.loc[phishing_check:,'phishing'] = 1    # 보이스파싱 텍스트 임베딩값\n",
    "    return df"
   ]
  },
  {
   "cell_type": "code",
   "execution_count": 17,
   "id": "369e6dba",
   "metadata": {},
   "outputs": [],
   "source": [
    "def data_split(df):\n",
    "    feature = df.iloc[:,:-1]      # 피처 칼럼: 예측에 사용되는 데이터\n",
    "    target  = df['phishing']      # 타겟 칼럼: 예측(분류) 대상 데이터\n",
    "    x_train, x_valid, y_train, y_valid = train_test_split(feature, target, test_size=0.2,\n",
    "                                                          shuffle=True,      \n",
    "                                                          stratify=target,  \n",
    "                                                          random_state=1234) \n",
    "    return x_train, x_valid, y_train, y_valid, feature, target"
   ]
  },
  {
   "cell_type": "code",
   "execution_count": 7,
   "id": "8cf63d8d",
   "metadata": {},
   "outputs": [],
   "source": [
    "eng_ratio5_4gram = np.load('eng_ratio5_4gram_embedding.npy', allow_pickle=True)"
   ]
  },
  {
   "cell_type": "code",
   "execution_count": 16,
   "id": "beb94bc8",
   "metadata": {},
   "outputs": [
    {
     "data": {
      "text/plain": [
       "numpy.ndarray"
      ]
     },
     "execution_count": 16,
     "metadata": {},
     "output_type": "execute_result"
    }
   ],
   "source": [
    "type(eng_ratio5_4gram)"
   ]
  },
  {
   "cell_type": "code",
   "execution_count": 14,
   "id": "93e9f7c6",
   "metadata": {},
   "outputs": [
    {
     "name": "stdout",
     "output_type": "stream",
     "text": [
      "264 번 인덱스 오류 처리 완료\n",
      "291 번 인덱스 오류 처리 완료\n",
      "304 번 인덱스 오류 처리 완료\n",
      "316 번 인덱스 오류 처리 완료\n",
      "330 번 인덱스 오류 처리 완료\n",
      "331 번 인덱스 오류 처리 완료\n",
      "332 번 인덱스 오류 처리 완료\n",
      "334 번 인덱스 오류 처리 완료\n"
     ]
    },
    {
     "data": {
      "text/plain": [
       "array([1, 0, 1, ..., 1, 0, 0], dtype=int64)"
      ]
     },
     "execution_count": 14,
     "metadata": {},
     "output_type": "execute_result"
    }
   ],
   "source": [
    "import pickle\n",
    "\n",
    "\n",
    "df = make_df(eng_ratio5_4gram)\n",
    "x_train, x_valid, y_train, y_valid, feature, target = data_split(df)\n",
    "\n",
    "reg = LogisticRegression(random_state=0, max_iter=500)\n",
    "reg.fit(x_train, y_train)\n",
    "pred = reg.predict(x_valid) \n",
    "\n",
    "saved_model = pickle.dumps(reg)\n",
    "\n",
    "with open('saved_model_file', 'wb') as f:\n",
    "    pickle.dump(reg, f)\n",
    "    \n",
    "    \n",
    "clf_from_pickle = pickle.loads(saved_model)\n",
    "clf_from_pickle.predict(x_valid)"
   ]
  },
  {
   "cell_type": "code",
   "execution_count": 18,
   "id": "6b856c0e",
   "metadata": {},
   "outputs": [
    {
     "data": {
      "text/plain": [
       "pandas.core.frame.DataFrame"
      ]
     },
     "execution_count": 18,
     "metadata": {},
     "output_type": "execute_result"
    }
   ],
   "source": [
    "type(x_valid)"
   ]
  },
  {
   "cell_type": "code",
   "execution_count": null,
   "id": "60eb5e7d",
   "metadata": {},
   "outputs": [],
   "source": []
  }
 ],
 "metadata": {
  "kernelspec": {
   "display_name": "llm",
   "language": "python",
   "name": "llm"
  },
  "language_info": {
   "codemirror_mode": {
    "name": "ipython",
    "version": 3
   },
   "file_extension": ".py",
   "mimetype": "text/x-python",
   "name": "python",
   "nbconvert_exporter": "python",
   "pygments_lexer": "ipython3",
   "version": "3.8.5"
  }
 },
 "nbformat": 4,
 "nbformat_minor": 5
}
